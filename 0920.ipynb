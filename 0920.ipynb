{
  "nbformat": 4,
  "nbformat_minor": 0,
  "metadata": {
    "colab": {
      "provenance": [],
      "authorship_tag": "ABX9TyMlGyY21mJ78UMQYnaUwB6H",
      "include_colab_link": true
    },
    "kernelspec": {
      "name": "python3",
      "display_name": "Python 3"
    },
    "language_info": {
      "name": "python"
    }
  },
  "cells": [
    {
      "cell_type": "markdown",
      "metadata": {
        "id": "view-in-github",
        "colab_type": "text"
      },
      "source": [
        "<a href=\"https://colab.research.google.com/github/Naoship/DeepLearning2022/blob/main/0920.ipynb\" target=\"_parent\"><img src=\"https://colab.research.google.com/assets/colab-badge.svg\" alt=\"Open In Colab\"/></a>"
      ]
    },
    {
      "cell_type": "markdown",
      "source": [
        "##python3で関数を定義する\n",
        "###関数定義"
      ],
      "metadata": {
        "id": "h0_k1bTtb30A"
      }
    },
    {
      "cell_type": "code",
      "execution_count": 2,
      "metadata": {
        "id": "Xdez7tfTbt-g",
        "colab": {
          "base_uri": "https://localhost:8080/"
        },
        "outputId": "e6381e2a-2e48-449d-9afb-c841f42b77bb"
      },
      "outputs": [
        {
          "output_type": "stream",
          "name": "stdout",
          "text": [
            "test message!\n"
          ]
        }
      ],
      "source": [
        "# hello という関数を定義する\n",
        "# \"hello, kansuu!\" と画面表示する関数 \n",
        "def hello():\n",
        "  print('hello, kansuu!') # インデントされている \n",
        "  #インデントされている命令文などは関数の範囲の中 \n",
        "print('test message!') #インデントされていない \n",
        "#インデントされていない命令文などは関数の範囲の外"
      ]
    },
    {
      "cell_type": "markdown",
      "source": [
        "##関数を実行する\n"
      ],
      "metadata": {
        "id": "KHOfuSjHpiNa"
      }
    },
    {
      "cell_type": "code",
      "source": [
        "#作成した関数helloをコールする\n",
        "hello()\n",
        "hello()"
      ],
      "metadata": {
        "colab": {
          "base_uri": "https://localhost:8080/"
        },
        "id": "uiC1TErApoEz",
        "outputId": "e4341cc3-c33c-4c57-e280-0feabe0f5cb0"
      },
      "execution_count": 3,
      "outputs": [
        {
          "output_type": "stream",
          "name": "stdout",
          "text": [
            "hello, kansuu!\n"
          ]
        }
      ]
    },
    {
      "cell_type": "markdown",
      "source": [
        "##引数付きの関数hello()を定義\n"
      ],
      "metadata": {
        "id": "xzH2nKbTp9WY"
      }
    },
    {
      "cell_type": "code",
      "source": [
        "#引数付きの関数hello()を定義\n",
        "def hello(who):\n",
        "  print(\"hello,\"+ who+\"!\")\n",
        "#ここが関数の終わり\n",
        "hello(\"python !\")\n"
      ],
      "metadata": {
        "colab": {
          "base_uri": "https://localhost:8080/"
        },
        "id": "cP8VI8XDqD9D",
        "outputId": "0aeddd61-631b-4559-c9c6-a9d2e804dd66"
      },
      "execution_count": 5,
      "outputs": [
        {
          "output_type": "stream",
          "name": "stdout",
          "text": [
            "hello,python !!\n"
          ]
        }
      ]
    },
    {
      "cell_type": "code",
      "source": [],
      "metadata": {
        "id": "TvU-MQ3qpwn6"
      },
      "execution_count": null,
      "outputs": []
    },
    {
      "cell_type": "markdown",
      "source": [
        "##複数の引数付き関数を定義\n",
        "\n"
      ],
      "metadata": {
        "id": "DznzkEzdqf9_"
      }
    },
    {
      "cell_type": "code",
      "source": [
        "def hello (who, aisatsu):\n",
        "  print(\"hello,\"+ who+ \"さん\"+ aisatsu)\n",
        "  #関数終わり\n",
        "  hello(\"田中\",\"おはよう\")\n",
        "  hello(\"鈴木\",\"こんにちは\")"
      ],
      "metadata": {
        "id": "FZ9ia55EqnnL"
      },
      "execution_count": null,
      "outputs": []
    },
    {
      "cell_type": "markdown",
      "source": [
        "##関数の戻り値を定義する\n",
        "###戻り値一つの関数を定義"
      ],
      "metadata": {
        "id": "wsaOivn5rIqa"
      }
    },
    {
      "cell_type": "code",
      "source": [
        "def helloBack(who, aisatsu): \n",
        "  return who + 'さん、' + aisatsu\n",
        "# 関数終わり\n",
        "# 戻り値を変数xに代入して表示\n",
        "x = helloBack('佐藤','こんばんは') \n",
        "print(x)"
      ],
      "metadata": {
        "colab": {
          "base_uri": "https://localhost:8080/"
        },
        "id": "B9zNbrt9rQrI",
        "outputId": "1a51f79f-5581-4dfb-acba-56d1b278894a"
      },
      "execution_count": 6,
      "outputs": [
        {
          "output_type": "stream",
          "name": "stdout",
          "text": [
            "佐藤さん、こんばんは\n"
          ]
        }
      ]
    },
    {
      "cell_type": "code",
      "source": [],
      "metadata": {
        "id": "JbGS70e4roRW"
      },
      "execution_count": null,
      "outputs": []
    },
    {
      "cell_type": "markdown",
      "source": [
        "##複数の戻り値を返す関数の定義"
      ],
      "metadata": {
        "id": "Bo3_bRZorsRB"
      }
    },
    {
      "cell_type": "code",
      "source": [
        "def keisan(x,y):\n",
        "  # x,y,x+y この3つの値を返す\n",
        "  return x, y, x+y\n",
        "# 関数終わり\n",
        "# 関数 keisan を実行して戻り値を受け取る\n",
        "e,f,g = keisan(3,6)#戻り値が 3, 6, 9になる \n",
        "print(e,f,g)"
      ],
      "metadata": {
        "colab": {
          "base_uri": "https://localhost:8080/"
        },
        "id": "Cf-pceIDryaE",
        "outputId": "ee7c4911-f843-43d7-ff83-fe6d832a5d44"
      },
      "execution_count": 7,
      "outputs": [
        {
          "output_type": "stream",
          "name": "stdout",
          "text": [
            "3 6 9\n"
          ]
        }
      ]
    },
    {
      "cell_type": "markdown",
      "source": [
        "##その他の文法\n",
        "###分岐（if文）"
      ],
      "metadata": {
        "id": "Y_Pain2xsTf4"
      }
    },
    {
      "cell_type": "code",
      "source": [
        "# if文の範囲もインデントで表す\n",
        "# numの値を閾値で分岐する\n",
        "def over (num, thres):\n",
        "  if num > thres: # numが閾値より大きいとき\n",
        "    print(str(num) + 'は' + str (thres) + 'より大きい')\n",
        "  else: \n",
        "    print(str(num) + 'は' + str (thres) + '以下です' ) \n",
        "#分岐の終わり\n",
        "# 関数終わり\n",
        "\n",
        "over(333, 100)\n",
        "over(-1, 10)"
      ],
      "metadata": {
        "colab": {
          "base_uri": "https://localhost:8080/"
        },
        "id": "H6xjCmbJsewe",
        "outputId": "1eecb065-90c9-42ea-f000-5e744b395ac6"
      },
      "execution_count": 9,
      "outputs": [
        {
          "output_type": "stream",
          "name": "stdout",
          "text": [
            "333は100より大きい\n",
            "-1は10以下です\n"
          ]
        }
      ]
    },
    {
      "cell_type": "code",
      "source": [
        "# リストに第2引数の値が含まれるか判定 \n",
        "def include(list, keyword):\n",
        "  uniq = set(list) # リストを集合に変換\n",
        "  if keyword in uniq :\n",
        "    print (keyword + ' が含まれる') \n",
        "  else:\n",
        "    print(keyword + ' が含まれない')\n",
        "#分岐の終わり\n",
        "# 関数の終わり\n",
        "# リストを引き渡して作成した関数を実行する\n",
        "list_1 = ['アップル', 'ペンペン', 'パイナップル'] #第一引数に使うリスト \n",
        "include(list_1, 'パイナップル')\n",
        "include(list_1, 'バナナ' )"
      ],
      "metadata": {
        "colab": {
          "base_uri": "https://localhost:8080/"
        },
        "id": "yu36weoQsO18",
        "outputId": "1e630217-112d-4108-a0eb-abf50106ce5e"
      },
      "execution_count": 13,
      "outputs": [
        {
          "output_type": "stream",
          "name": "stdout",
          "text": [
            "パイナップル が含まれる\n",
            "バナナ が含まれない\n"
          ]
        }
      ]
    },
    {
      "cell_type": "code",
      "source": [],
      "metadata": {
        "id": "QmWHggzj3Q3c"
      },
      "execution_count": null,
      "outputs": []
    },
    {
      "cell_type": "markdown",
      "source": [
        "###繰り返し分（while文）"
      ],
      "metadata": {
        "id": "cudhW6gx3uwK"
      }
    },
    {
      "cell_type": "code",
      "source": [
        "# while文は条件がtureの間くりかえす\n",
        "def count(max):\n",
        "  num = 0\n",
        "  while num < max: # numがmax未満の間、 くりかえす\n",
        "   print(num)\n",
        "   num += 1\n",
        "# whike繰り返し終わり\n",
        "# 関数終わり\n",
        "count (5) # 作成した関数に引数を引き渡して実行"
      ],
      "metadata": {
        "colab": {
          "base_uri": "https://localhost:8080/"
        },
        "id": "YOJ9ocMl30Ev",
        "outputId": "5c7366a3-eaf1-4ffe-a911-95d49ccb8edd"
      },
      "execution_count": 14,
      "outputs": [
        {
          "output_type": "stream",
          "name": "stdout",
          "text": [
            "0\n",
            "1\n",
            "2\n",
            "3\n",
            "4\n"
          ]
        }
      ]
    },
    {
      "cell_type": "code",
      "source": [],
      "metadata": {
        "id": "HUijh6De4O1l"
      },
      "execution_count": null,
      "outputs": []
    },
    {
      "cell_type": "markdown",
      "source": [
        "###繰り返し分（for文）"
      ],
      "metadata": {
        "id": "XETSvO8E4RPu"
      }
    },
    {
      "cell_type": "code",
      "source": [
        "# 集合 (コレクション) の中から取り出して繰り返し\n",
        "def every (array):\n",
        "  for x in array: # arrayの中から1つずつデータを取り出しxに代入\n",
        "    print(x)\n",
        "#for文終わり\n",
        "# 関数終わり\n",
        "list = [1,2,3]\n",
        "every (list)\n",
        "tuple = (4, 5, 6)\n",
        "every(tuple )\n",
        "# 辞書型もコレクション\n",
        "dict = {'a':1, 'b':8, 'c':9 }\n",
        "every(dict) # キーワードの一覧表示\n",
        "values = dict. values() # 値のリストを取得\n",
        "every(values) # 値の一覧を表示\n",
        "# 文字列も文字配列としてコレクション扱いができる \n",
        "every('dog') #dog として表示"
      ],
      "metadata": {
        "colab": {
          "base_uri": "https://localhost:8080/"
        },
        "id": "YldmiHw34V_p",
        "outputId": "451a6e8c-c80c-4d98-837c-fc66c04b6a27"
      },
      "execution_count": 19,
      "outputs": [
        {
          "output_type": "stream",
          "name": "stdout",
          "text": [
            "1\n",
            "2\n",
            "3\n",
            "4\n",
            "5\n",
            "6\n",
            "a\n",
            "b\n",
            "c\n",
            "1\n",
            "8\n",
            "9\n",
            "d\n",
            "o\n",
            "g\n"
          ]
        }
      ]
    },
    {
      "cell_type": "markdown",
      "source": [],
      "metadata": {
        "id": "BmLNmPHJ9oh1"
      }
    },
    {
      "cell_type": "code",
      "source": [
        "#カウンター変数で繰り返す\n",
        "# for n in range (数値) 0~数値未満繰り返す\n",
        "def count(num):\n",
        "  for i in range(num): # 0 ~num 繰り返す \n",
        "    print(i)\n",
        "#繰り返しの終わり\n",
        "# 関数の終わり\n",
        "count (3)#3 = 0,1,2　で繰り返す"
      ],
      "metadata": {
        "colab": {
          "base_uri": "https://localhost:8080/"
        },
        "id": "daqbPwLC8oGh",
        "outputId": "a0f30892-651c-4384-a8b8-55863022d521"
      },
      "execution_count": 20,
      "outputs": [
        {
          "output_type": "stream",
          "name": "stdout",
          "text": [
            "0\n",
            "1\n",
            "2\n"
          ]
        }
      ]
    },
    {
      "cell_type": "markdown",
      "source": [
        "##繰り返しを中断したいときは、break命令"
      ],
      "metadata": {
        "id": "VjOZpedd9xpG"
      }
    },
    {
      "cell_type": "code",
      "source": [
        "def stop(array):\n",
        "  for i in array:\n",
        "    if i >= 4:\n",
        "      break # ループを中断\n",
        "    print(i)\n",
        "# 分岐終わり\n",
        "#ループ終わり\n",
        "# 関数終わり\n",
        "list = [1, 2, 3, 4, 5, 1,2,3,4,5]\n",
        "stop(list)"
      ],
      "metadata": {
        "colab": {
          "base_uri": "https://localhost:8080/"
        },
        "id": "Nz1BdWTl9iIj",
        "outputId": "fdc07b85-d7f7-4760-a5d0-13c6205e8482"
      },
      "execution_count": 23,
      "outputs": [
        {
          "output_type": "stream",
          "name": "stdout",
          "text": [
            "1\n",
            "2\n",
            "3\n"
          ]
        }
      ]
    },
    {
      "cell_type": "markdown",
      "source": [],
      "metadata": {
        "id": "sDbL-3nO-Z9n"
      }
    },
    {
      "cell_type": "code",
      "source": [],
      "metadata": {
        "id": "zZkSIaok-Ohb"
      },
      "execution_count": null,
      "outputs": []
    },
    {
      "cell_type": "markdown",
      "source": [
        "###繰り返しをスキップしたいときは、continue命令"
      ],
      "metadata": {
        "id": "-RddN5lr-vNn"
      }
    },
    {
      "cell_type": "code",
      "source": [
        "def skip ( array):\n",
        "  for i in array:\n",
        "    if i >= 4:\n",
        "      continue\n",
        "#以降のループ内処理をスキップする\n",
        "#分岐終わり\n",
        "    print(i)\n",
        "# 繰り返し終わり\n",
        "# 関数終わり\n",
        "list = [1, 2, 3, 4, 5, 1,2,3,4,5]\n",
        "skip ( list )"
      ],
      "metadata": {
        "colab": {
          "base_uri": "https://localhost:8080/"
        },
        "id": "uaPA8aMP-0lt",
        "outputId": "566e9846-2eb1-4df5-fae7-78edf4f22f8c"
      },
      "execution_count": 24,
      "outputs": [
        {
          "output_type": "stream",
          "name": "stdout",
          "text": [
            "1\n",
            "2\n",
            "3\n",
            "1\n",
            "2\n",
            "3\n"
          ]
        }
      ]
    },
    {
      "cell_type": "code",
      "source": [],
      "metadata": {
        "id": "HRAnC7r3_KM-"
      },
      "execution_count": null,
      "outputs": []
    }
  ]
}