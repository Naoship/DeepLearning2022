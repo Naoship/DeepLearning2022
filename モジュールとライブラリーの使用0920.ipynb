{
  "nbformat": 4,
  "nbformat_minor": 0,
  "metadata": {
    "colab": {
      "provenance": [],
      "collapsed_sections": [],
      "authorship_tag": "ABX9TyNpGjEU0s7L8fa2LXLbej4H",
      "include_colab_link": true
    },
    "kernelspec": {
      "name": "python3",
      "display_name": "Python 3"
    },
    "language_info": {
      "name": "python"
    }
  },
  "cells": [
    {
      "cell_type": "markdown",
      "metadata": {
        "id": "view-in-github",
        "colab_type": "text"
      },
      "source": [
        "<a href=\"https://colab.research.google.com/github/Naoship/DeepLearning2022/blob/main/%E3%83%A2%E3%82%B8%E3%83%A5%E3%83%BC%E3%83%AB%E3%81%A8%E3%83%A9%E3%82%A4%E3%83%96%E3%83%A9%E3%83%AA%E3%83%BC%E3%81%AE%E4%BD%BF%E7%94%A80920.ipynb\" target=\"_parent\"><img src=\"https://colab.research.google.com/assets/colab-badge.svg\" alt=\"Open In Colab\"/></a>"
      ]
    },
    {
      "cell_type": "code",
      "execution_count": 19,
      "metadata": {
        "id": "ER6zZc7M_dOo"
      },
      "outputs": [],
      "source": []
    },
    {
      "cell_type": "markdown",
      "source": [
        "#モジュールを使う\n",
        "##import 分でモジュールを読み込んで使う\n",
        "例）math"
      ],
      "metadata": {
        "id": "Q8BHmaIHJA39"
      }
    },
    {
      "cell_type": "code",
      "source": [
        "# mathモジュールを読み込む\n",
        "import math\n",
        "print(math.pi ) # mathの中に定義してある円周率を表示\n",
        "print(math.pow(5, 2)) #5の2乗\n",
        "print(math.sqrt( 9 ) ) #9の平方根"
      ],
      "metadata": {
        "colab": {
          "base_uri": "https://localhost:8080/"
        },
        "id": "26wVSyoMJYq_",
        "outputId": "9a42ed57-4a57-45df-903c-7e7972e45901"
      },
      "execution_count": 20,
      "outputs": [
        {
          "output_type": "stream",
          "name": "stdout",
          "text": [
            "3.141592653589793\n",
            "25.0\n",
            "3.0\n"
          ]
        }
      ]
    },
    {
      "cell_type": "markdown",
      "source": [
        "##numpy --数値計算用の便利なライブラリ"
      ],
      "metadata": {
        "id": "x7IiNR1NJ7Ci"
      }
    },
    {
      "cell_type": "code",
      "source": [
        "#numpyをimport \n",
        "import numpy as np"
      ],
      "metadata": {
        "id": "lSnSKBwvKAcE"
      },
      "execution_count": 21,
      "outputs": []
    },
    {
      "cell_type": "markdown",
      "source": [
        "### numpy配列（ndarray）を作る\n",
        "\n"
      ],
      "metadata": {
        "id": "u1UM-psuxjgh"
      }
    },
    {
      "cell_type": "code",
      "source": [
        "\n",
        "#リストを引き渡してndarrayを作る\n",
        "a = np.array([5,7,3,1,4,3])\n",
        "print(a)\n"
      ],
      "metadata": {
        "id": "wEjpoTOZKJhj",
        "colab": {
          "base_uri": "https://localhost:8080/"
        },
        "outputId": "6596871b-5b1c-4797-83ef-7026488893af"
      },
      "execution_count": 22,
      "outputs": [
        {
          "output_type": "stream",
          "name": "stdout",
          "text": [
            "[5 7 3 1 4 3]\n"
          ]
        }
      ]
    },
    {
      "cell_type": "markdown",
      "source": [
        "### Numpyで配列の操作をしてみる\n",
        "\n",
        "####配列を構成しなおす"
      ],
      "metadata": {
        "id": "tfQK1xxAz7N1"
      }
    },
    {
      "cell_type": "code",
      "source": [
        "#現在、aは1行1次元\n",
        "print(a)\n",
        "#aを３行２列の２次元配列に構成しなおす\n",
        "b = a.reshape([3,2])#新しい配列の攻勢を引数で指定する\n",
        "print(b)\n"
      ],
      "metadata": {
        "colab": {
          "base_uri": "https://localhost:8080/"
        },
        "id": "bAwNXT2UxjKf",
        "outputId": "a3f8befd-4d01-401d-9391-81cf5427438a"
      },
      "execution_count": 23,
      "outputs": [
        {
          "output_type": "stream",
          "name": "stdout",
          "text": [
            "[5 7 3 1 4 3]\n",
            "[[5 7]\n",
            " [3 1]\n",
            " [4 3]]\n"
          ]
        }
      ]
    },
    {
      "cell_type": "markdown",
      "source": [
        "### Numpy配列の中身を初期化してみる"
      ],
      "metadata": {
        "id": "wFMkuPwt0NEr"
      }
    },
    {
      "cell_type": "code",
      "source": [
        "#３行４列の０がはいった２次元配列を作る\n",
        "c = np.zeros((3,4))\n",
        "print(c)\n",
        "#ランダムな値が入った配列を作る\n",
        "np.random.seed(0)\n",
        "r = np.random.rand(3,4)\n",
        "print(r)\n",
        "\n"
      ],
      "metadata": {
        "colab": {
          "base_uri": "https://localhost:8080/"
        },
        "id": "xp3br_fEzuy6",
        "outputId": "670fbd26-6319-49de-d4d8-1b078be753b8"
      },
      "execution_count": 24,
      "outputs": [
        {
          "output_type": "stream",
          "name": "stdout",
          "text": [
            "[[0. 0. 0. 0.]\n",
            " [0. 0. 0. 0.]\n",
            " [0. 0. 0. 0.]]\n",
            "[[0.5488135  0.71518937 0.60276338 0.54488318]\n",
            " [0.4236548  0.64589411 0.43758721 0.891773  ]\n",
            " [0.96366276 0.38344152 0.79172504 0.52889492]]\n"
          ]
        }
      ]
    },
    {
      "cell_type": "markdown",
      "source": [
        "## Numpyのスライスのやり方\n",
        "### 基本\n",
        "####スライスの指定の仕方[start:stop:step]で指定する\n",
        "\n"
      ],
      "metadata": {
        "id": "uS7vUoUk0YFK"
      }
    },
    {
      "cell_type": "code",
      "source": [
        "\n",
        "#リストとのスライス\n",
        "i = list(range(10))#０～９までの１０個の要素リスト\n",
        "print(i)\n",
        "print(i[4:8])#[4:8]でスライス\n",
        "print(i[::-1])#stepを-1でスライス\n"
      ],
      "metadata": {
        "colab": {
          "base_uri": "https://localhost:8080/"
        },
        "id": "SIxglBj1zu2k",
        "outputId": "0a1980eb-736f-4cb8-d37a-e677c3914c55"
      },
      "execution_count": 25,
      "outputs": [
        {
          "output_type": "stream",
          "name": "stdout",
          "text": [
            "[0, 1, 2, 3, 4, 5, 6, 7, 8, 9]\n",
            "[4, 5, 6, 7]\n",
            "[9, 8, 7, 6, 5, 4, 3, 2, 1, 0]\n"
          ]
        }
      ]
    },
    {
      "cell_type": "markdown",
      "source": [
        "### 1次元配列のNumpy配列（ndarray）におけるスライス"
      ],
      "metadata": {
        "id": "ZzTq7B8D21Q1"
      }
    },
    {
      "cell_type": "code",
      "source": [
        "\n",
        "#範囲を指定してndarrayを作る\n",
        "a = np.arange(10)#０～９の１０個の要素のndarray\n",
        "print(a)\n",
        "print(a[2:8])\n",
        "print(a[2:8:2])#step2で2個飛ばし"
      ],
      "metadata": {
        "colab": {
          "base_uri": "https://localhost:8080/"
        },
        "id": "dS62SdUUzu8u",
        "outputId": "0e3d2592-bba1-480b-c9f0-2b53661bfef0"
      },
      "execution_count": 26,
      "outputs": [
        {
          "output_type": "stream",
          "name": "stdout",
          "text": [
            "[0 1 2 3 4 5 6 7 8 9]\n",
            "[2 3 4 5 6 7]\n",
            "[2 4 6]\n"
          ]
        }
      ]
    },
    {
      "cell_type": "markdown",
      "source": [
        "#### １次元配列のndarrayのスライスに代入"
      ],
      "metadata": {
        "id": "RD78DA3m3IGz"
      }
    },
    {
      "cell_type": "code",
      "source": [
        "print(a)\n",
        "\n",
        "a[3:6] = 100 #指定した範囲に特定の値を代入\n",
        "print(a)\n",
        "a[3:6] = [100,200,300]#指定した範囲にリストの値を代入\n",
        "print(a)\n",
        "#a[3:6] = [100,200,300,400]#３つの範囲を４つの要素で上書き\n",
        "a = np.arange(10)\n",
        "print(a)\n",
        "a[2:8:2] = 100 #start2stop8にstep2で上書き\n",
        "print(a)"
      ],
      "metadata": {
        "colab": {
          "base_uri": "https://localhost:8080/"
        },
        "id": "Vh65rdakzvA5",
        "outputId": "f68fb10c-7f39-4f10-8bc7-67ea45649168"
      },
      "execution_count": 27,
      "outputs": [
        {
          "output_type": "stream",
          "name": "stdout",
          "text": [
            "[0 1 2 3 4 5 6 7 8 9]\n",
            "[  0   1   2 100 100 100   6   7   8   9]\n",
            "[  0   1   2 100 200 300   6   7   8   9]\n",
            "[0 1 2 3 4 5 6 7 8 9]\n",
            "[  0   1 100   3 100   5 100   7   8   9]\n"
          ]
        }
      ]
    },
    {
      "cell_type": "markdown",
      "source": [
        "### 多次元配列のndarrayのスライス"
      ],
      "metadata": {
        "id": "nFWeyF023Tiu"
      }
    },
    {
      "cell_type": "code",
      "source": [
        "\n",
        "#３行４列の２次元配列を作る\n",
        "a = np.arange(12).reshape((3,4))\n",
        "print(a)\n",
        "#２行目から終わりまでの行　＝ [1:]\n",
        "#２列目から４列目手前までの列　＝[1:3]\n",
        "print(a[1:,1:3])\n",
        "b = np.arange(20).reshape(5,4)\n",
        "print(b)\n",
        "#9, 10 13,14 17, 18の３行２列だけを抜き出す\n",
        "print(b[2:, 1:3])\n",
        "#スライスした部分が何行何列なのか\n",
        "print(c.shape)"
      ],
      "metadata": {
        "colab": {
          "base_uri": "https://localhost:8080/"
        },
        "id": "HthTiwR63Qub",
        "outputId": "8f4ffaf8-ee16-421c-8f02-a0615920aa83"
      },
      "execution_count": 28,
      "outputs": [
        {
          "output_type": "stream",
          "name": "stdout",
          "text": [
            "[[ 0  1  2  3]\n",
            " [ 4  5  6  7]\n",
            " [ 8  9 10 11]]\n",
            "[[ 5  6]\n",
            " [ 9 10]]\n",
            "[[ 0  1  2  3]\n",
            " [ 4  5  6  7]\n",
            " [ 8  9 10 11]\n",
            " [12 13 14 15]\n",
            " [16 17 18 19]]\n",
            "[[ 9 10]\n",
            " [13 14]\n",
            " [17 18]]\n",
            "(3, 4)\n"
          ]
        }
      ]
    },
    {
      "cell_type": "code",
      "source": [],
      "metadata": {
        "id": "q6UEXHfq3QxM"
      },
      "execution_count": 28,
      "outputs": []
    },
    {
      "cell_type": "markdown",
      "source": [
        "### 多次元のndarrayへのスライスでの代入"
      ],
      "metadata": {
        "id": "iShu7C0ofBCr"
      }
    },
    {
      "cell_type": "code",
      "source": [],
      "metadata": {
        "id": "A6Riq_uy3Q0W"
      },
      "execution_count": 28,
      "outputs": []
    },
    {
      "cell_type": "code",
      "source": [
        "#要素数１２の３行４列の２次元配列を作る\n",
        "a = np.arange(12).reshape(3,4)\n",
        "print(a)\n",
        "#5,6,9,10の部分をスライス\n",
        "print(a[1:, 1:3])\n",
        "a[1:, 1:3] = 100\n",
        "print(a)\n",
        "a = np.arange(12).reshape(3,4)\n",
        "#多次元での上書きにリストを使う\n",
        "a[1:,1:3] = [100,200]\n",
        "print(a)\n",
        "#多次元での上書きに２次元のリストを使う\n",
        "a [1:,1:3] = [[100,200], [300,400]]\n",
        "print(a)"
      ],
      "metadata": {
        "id": "5xbac84k3Q2n",
        "colab": {
          "base_uri": "https://localhost:8080/"
        },
        "outputId": "1789ab9f-287f-4fef-e333-1cae614e44e2"
      },
      "execution_count": 29,
      "outputs": [
        {
          "output_type": "stream",
          "name": "stdout",
          "text": [
            "[[ 0  1  2  3]\n",
            " [ 4  5  6  7]\n",
            " [ 8  9 10 11]]\n",
            "[[ 5  6]\n",
            " [ 9 10]]\n",
            "[[  0   1   2   3]\n",
            " [  4 100 100   7]\n",
            " [  8 100 100  11]]\n",
            "[[  0   1   2   3]\n",
            " [  4 100 200   7]\n",
            " [  8 100 200  11]]\n",
            "[[  0   1   2   3]\n",
            " [  4 100 200   7]\n",
            " [  8 300 400  11]]\n"
          ]
        }
      ]
    },
    {
      "cell_type": "code",
      "source": [
        "#要素数１２　３行４列のndarrayを作って変数にaを代入\n",
        "a = np.arange(12).reshape((3,4))\n",
        "print(a)\n",
        "#スライスにstepを使ってみる 4,6,8,10　を抜き出す\n",
        "print(a[1:,::2])\n",
        "#0,3,4,7を抜き出す\n",
        "print(a[:2, ::3])\n",
        "a[1:, ::2] = 100 #4,6,8,10だったところを１００で上書き\n",
        "print(a)\n",
        "#4,6,8,10だったところをリストで上書き\n",
        "a[1:, ::2] = [100,200]\n",
        "print(a)\n",
        "#4,6,8,10だったところを多次元リストで上書き\n",
        "a[1:, ::2] = [[100,200], [300,400]]"
      ],
      "metadata": {
        "id": "rjEUc60N3Q5F",
        "colab": {
          "base_uri": "https://localhost:8080/"
        },
        "outputId": "b26d5c3e-2710-43ad-d2b8-a43a3a14eba0"
      },
      "execution_count": 30,
      "outputs": [
        {
          "output_type": "stream",
          "name": "stdout",
          "text": [
            "[[ 0  1  2  3]\n",
            " [ 4  5  6  7]\n",
            " [ 8  9 10 11]]\n",
            "[[ 4  6]\n",
            " [ 8 10]]\n",
            "[[0 3]\n",
            " [4 7]]\n",
            "[[  0   1   2   3]\n",
            " [100   5 100   7]\n",
            " [100   9 100  11]]\n",
            "[[  0   1   2   3]\n",
            " [100   5 200   7]\n",
            " [100   9 200  11]]\n"
          ]
        }
      ]
    },
    {
      "cell_type": "code",
      "source": [],
      "metadata": {
        "id": "XhYsvQte3Q7t"
      },
      "execution_count": 30,
      "outputs": []
    },
    {
      "cell_type": "code",
      "source": [],
      "metadata": {
        "id": "dxKGsb6i3Q-x"
      },
      "execution_count": 30,
      "outputs": []
    },
    {
      "cell_type": "code",
      "source": [],
      "metadata": {
        "id": "3H0zrTS_3RBb"
      },
      "execution_count": 30,
      "outputs": []
    },
    {
      "cell_type": "code",
      "source": [],
      "metadata": {
        "id": "MBSYXpL63RFK"
      },
      "execution_count": 30,
      "outputs": []
    },
    {
      "cell_type": "code",
      "source": [],
      "metadata": {
        "id": "aqm3_PCl3RIt"
      },
      "execution_count": 30,
      "outputs": []
    },
    {
      "cell_type": "code",
      "source": [],
      "metadata": {
        "id": "5hFdr55K3RLq"
      },
      "execution_count": 30,
      "outputs": []
    },
    {
      "cell_type": "code",
      "source": [],
      "metadata": {
        "id": "9wn-miDB3ROU"
      },
      "execution_count": 30,
      "outputs": []
    },
    {
      "cell_type": "code",
      "source": [],
      "metadata": {
        "id": "5jhZYrYa3RRI"
      },
      "execution_count": 30,
      "outputs": []
    },
    {
      "cell_type": "code",
      "source": [],
      "metadata": {
        "id": "34W2qeTl3RTt"
      },
      "execution_count": 30,
      "outputs": []
    },
    {
      "cell_type": "code",
      "source": [],
      "metadata": {
        "id": "wFSQkxYM3RWR"
      },
      "execution_count": 30,
      "outputs": []
    }
  ]
}