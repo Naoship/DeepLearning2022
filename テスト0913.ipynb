{
  "nbformat": 4,
  "nbformat_minor": 0,
  "metadata": {
    "colab": {
      "provenance": [],
      "authorship_tag": "ABX9TyN/PRi+V6M0zWZqN6Uslt7+",
      "include_colab_link": true
    },
    "kernelspec": {
      "name": "python3",
      "display_name": "Python 3"
    },
    "language_info": {
      "name": "python"
    }
  },
  "cells": [
    {
      "cell_type": "markdown",
      "metadata": {
        "id": "view-in-github",
        "colab_type": "text"
      },
      "source": [
        "<a href=\"https://colab.research.google.com/github/Naoship/DeepLearning2022/blob/main/%E3%83%86%E3%82%B9%E3%83%880913.ipynb\" target=\"_parent\"><img src=\"https://colab.research.google.com/assets/colab-badge.svg\" alt=\"Open In Colab\"/></a>"
      ]
    },
    {
      "cell_type": "code",
      "execution_count": null,
      "metadata": {
        "id": "HUgeR1Y3ULGo"
      },
      "outputs": [],
      "source": []
    },
    {
      "cell_type": "markdown",
      "source": [
        "#リスト型とタプル型\n",
        "##リストとタプル\n"
      ],
      "metadata": {
        "id": "CsbhGpb0U95_"
      }
    },
    {
      "cell_type": "code",
      "source": [],
      "metadata": {
        "id": "Ngu17cVLVGJ8"
      },
      "execution_count": null,
      "outputs": []
    },
    {
      "cell_type": "code",
      "source": [
        "lst = [\"アップル\", \"ペン\", \"ペン\", \"パイナップル\"]\n",
        "print(lst)"
      ],
      "metadata": {
        "id": "WCqX6rxmVHL-",
        "colab": {
          "base_uri": "https://localhost:8080/"
        },
        "outputId": "846a655b-f4f1-40fa-fd88-a6c5c9aad216"
      },
      "execution_count": null,
      "outputs": [
        {
          "output_type": "stream",
          "name": "stdout",
          "text": [
            "['アップル', 'ペン', 'ペン', 'パイナップル']\n"
          ]
        }
      ]
    },
    {
      "cell_type": "code",
      "source": [
        "\n",
        "\n",
        "tuple = (10, 9, 7, 7, 8, 8, 9) #6つの要素\n",
        "list = [1, 1, 2, 3, 4, 5 ] #7つの要素\n",
        "set = {1, 2, 3, 4, 5, 6, 7, -8 } # 8つの要素\n",
        "# リストの長さ、 最大値、最小値\n",
        "print(len(list), max(list), min( list ) )\n",
        "# タプルの長さ、最大値、最小値\n",
        "print(len(tuple ), max ( tuple ), min( tuple ) )\n",
        "# setの長さ (量)、 最大値、最小値\n",
        "print(len(set), max ( set ), min( set ) )\n"
      ],
      "metadata": {
        "id": "BNHPWvKrX1Nr",
        "colab": {
          "base_uri": "https://localhost:8080/"
        },
        "outputId": "f90ed8a4-83de-43fc-803e-f3df2049f125"
      },
      "execution_count": 2,
      "outputs": [
        {
          "output_type": "stream",
          "name": "stdout",
          "text": [
            "6 5 1\n",
            "7 10 7\n",
            "8 7 -8\n"
          ]
        }
      ]
    }
  ]
}